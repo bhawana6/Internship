{
 "metadata": {
  "language_info": {
   "codemirror_mode": {
    "name": "ipython",
    "version": 3
   },
   "file_extension": ".py",
   "mimetype": "text/x-python",
   "name": "python",
   "nbconvert_exporter": "python",
   "pygments_lexer": "ipython3",
   "version": "3.8.8"
  },
  "orig_nbformat": 4,
  "kernelspec": {
   "name": "python3",
   "display_name": "Python 3.8.8 64-bit ('base': conda)"
  },
  "interpreter": {
   "hash": "bbeb942dd2da2655a142babde40048b086932104910a0467be641da47a1bf07d"
  }
 },
 "nbformat": 4,
 "nbformat_minor": 2,
 "cells": [
  {
   "source": [
    "# Program to find the factorial of a number."
   ],
   "cell_type": "markdown",
   "metadata": {}
  },
  {
   "cell_type": "code",
   "execution_count": null,
   "metadata": {},
   "outputs": [],
   "source": [
    "# Python program to find the factorial of any integer number given by the user.\n",
    "\n",
    "import math\n",
    "\n",
    "def factorial_func(arg):\n",
    "    return(math.factorial(arg)) # using the in built factorial function in the math library\n",
    "\n",
    "try:\n",
    "    number = int(input(\"Enter an integer number here: \"))\n",
    "    cal_factorial = factorial_func(number)\n",
    "    print(\"Factorial of the entered integer number\", number, \"is\", cal_factorial)\n",
    "except ValueError:\n",
    "    print(\"You have not entered an integer number here so please try again\")"
   ]
  },
  {
   "source": [
    "# Program to find whether a number is prime or composite."
   ],
   "cell_type": "markdown",
   "metadata": {}
  },
  {
   "cell_type": "code",
   "execution_count": null,
   "metadata": {},
   "outputs": [],
   "source": [
    "# Python program to find whether a number is prime or composite which is accepted from the user.\n",
    "\n",
    "'''\n",
    "Clarification on prime and composite numbers\n",
    "0 and 1 (unit) are numbers which are not considered as prime or composite\n",
    "A prime number is greater than 1 and has no others factors than 1 and itself\n",
    "A composite number is any natural number apart from 0, 1 and prime numbers\n",
    "'''\n",
    "\n",
    "import math\n",
    "\n",
    "def Check_Prime(arg): # this will return 'True' if 'arg' is a prime number else it will return 'False'\n",
    "    if arg == 2:\n",
    "        return True\n",
    "    if arg > 2 and arg % 2 == 0:\n",
    "        return False\n",
    "    for i in range(3, int(math.sqrt(arg))+1, 2):\n",
    "        if arg % i == 0:\n",
    "            return False \n",
    "    return True\n",
    "\n",
    "try:\n",
    "    number = int(input(\"Enter a natural number of your choice: \"))\n",
    "    if number < 0 :\n",
    "        print(\"Sorry you have entered a negative number\")\n",
    "    elif number == 0 or number == 1:\n",
    "        print(\"The entered number\", number,\"is neither a prime nor a composite number\")\n",
    "    elif Check_Prime(number):\n",
    "        print(\"The entered number\", number,\"is a prime number\") \n",
    "    else:\n",
    "        print(\"The entered number\", number,\"is a composite number\")\n",
    "except ValueError:\n",
    "    print(\"Sorry this is not an integer value\")"
   ]
  },
  {
   "source": [
    "# Program to check whether a given string is palindrome or not."
   ],
   "cell_type": "markdown",
   "metadata": {}
  },
  {
   "cell_type": "code",
   "execution_count": null,
   "metadata": {},
   "outputs": [],
   "source": [
    "# Python program to check whether a given string is palindrome or not that is provided by the user.\n",
    "\n",
    "'''\n",
    "A string is said to be palindrome if it reads the same word or sentence forward and backward\n",
    "'''\n",
    "\n",
    "def Check_Palindrome(str):\n",
    "    return str == str [::-1] # checking if the string when reversed is still equal to the original string\n",
    "\n",
    "try:\n",
    "    string = input(\"Enter a word or sentence here: \")\n",
    "    if any(s.isdigit() for s in string):\n",
    "        raise ValueError\n",
    "    elif Check_Palindrome(string):\n",
    "        print(\"You entered\", string,\"and it is a palindrome\")\n",
    "    else:\n",
    "        print(\"You entered\", string,\"and it is not a palindrome\")\n",
    "except ValueError:\n",
    "    print(\"You have entered digits instead of a string!\")"
   ]
  },
  {
   "source": [
    "# Program to get the third side of right-angled triangle from two given sides."
   ],
   "cell_type": "markdown",
   "metadata": {}
  },
  {
   "cell_type": "code",
   "execution_count": null,
   "metadata": {},
   "outputs": [],
   "source": [
    "# Python program to get the third side of right-angled triangle from two given sides received from the user.\n",
    "'''\n",
    "If the given triangle is a right-angled triangle then the Pythagorean theorem can be used successfully where the sides will be height, base and hypotenuse\n",
    "Formula is hypotenuse = square root of (height square + base square)\n",
    "'''\n",
    "\n",
    "from math import sqrt\n",
    "\n",
    "try:\n",
    "    print('Calculate your right angled triangle sides using the Pythagorean theorem.')\n",
    "    print('Assume the sides are a (height), b (base) and c (hypotenuse which is the side opposite of your right angle).')\n",
    "    side_entered = input('Which side (a, b or c) do you wish to calculate? Enter the side here > ')\n",
    "    print('You have entered', side_entered, 'to be the side for calculation using the Pythagorean theorem.')\n",
    "    if side_entered == 'c':\n",
    "        side_a = int(input('Input the length of side a: '))\n",
    "        side_b = int(input('Input the length of side b: '))\n",
    "        if(side_a == 0 or side_b == 0):\n",
    "            print(\"The sides of a triangle cannot be zero\")\n",
    "        else:\n",
    "            side_c = sqrt(side_a * side_a + side_b * side_b)\n",
    "            print('The length of side c is:', side_c)\n",
    "    elif side_entered == 'a':\n",
    "        side_b = int(input('Input the length of side b: '))\n",
    "        side_c = int(input('Input the length of side c: '))\n",
    "        if(side_b == 0 or side_c == 0):\n",
    "            print(\"The sides of a triangle cannot be zero\")\n",
    "        elif (side_b == side_c or side_c < side_b):\n",
    "            print(\"Incorrect value for the hypotenuse provided\")\n",
    "        else:\n",
    "            side_a = sqrt(side_c * side_c - side_b * side_b)\n",
    "            print('The length of side a is:', side_a)\n",
    "    elif side_entered == 'b':\n",
    "        side_a = int(input('Input the length of side a: '))\n",
    "        side_c = int(input('Input the length of side c: '))\n",
    "        if(side_a == 0 or side_c == 0):\n",
    "            print(\"The sides of a triangle cannot be zero\")\n",
    "        elif (side_a == side_c or side_c < side_a):\n",
    "            print(\"Incorrect value for the hypotenuse provided\")\n",
    "        else:\n",
    "            side_b = sqrt(side_c * side_c - side_a * side_a)\n",
    "            print('The length of side b is:', side_b)\n",
    "    else:\n",
    "        print('Please select a valid side from lower case a, b or c to be calculated')\n",
    "except ValueError:\n",
    "    print(\"However the entered number for the remaining sides of a right angled triangle is not valid\")"
   ]
  },
  {
   "source": [
    "# Program to print the frequency of each of the characters present in a given string"
   ],
   "cell_type": "markdown",
   "metadata": {}
  },
  {
   "cell_type": "code",
   "execution_count": null,
   "metadata": {},
   "outputs": [],
   "source": [
    "# Python program to print the frequency of each of the characters present in a given string entered by the user.\n",
    "'''\n",
    "Need to show the number of times a particular letter in a word or sentence entered by user occurs\n",
    "'''\n",
    "\n",
    "try:\n",
    "    data_string = input(\"Enter a word or senteence to check the frequency of each letter in it: \")\n",
    "    if any(d.isdigit() for d in data_string):\n",
    "        raise ValueError\n",
    "    else:\n",
    "        freq_check = {i : data_string.count(i) for i in set(data_string)}\n",
    "        print(\"The count of each and every letter in\", data_string, \"is displayed with the letter first and the number of occurences besides it: \")\n",
    "        print('\\n',freq_check)\n",
    "except ValueError:\n",
    "    print(\"Sorry looks like you have not entered a valid string!\")"
   ]
  }
 ]
}